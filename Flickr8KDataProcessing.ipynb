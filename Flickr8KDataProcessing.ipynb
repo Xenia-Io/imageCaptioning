{
 "cells": [
  {
   "cell_type": "code",
   "execution_count": 20,
   "metadata": {},
   "outputs": [],
   "source": [
    "import pandas as pd\n",
    "import os\n",
    "import pickle\n",
    "import numpy as np\n",
    "import nltk\n",
    "from collections import defaultdict"
   ]
  },
  {
   "cell_type": "code",
   "execution_count": 6,
   "metadata": {},
   "outputs": [],
   "source": [
    "token_file = 'Flickr_Data/Flickr_TextData/Flickr8k.token.txt'\n",
    "annotations = open(token_file, 'r').read().strip().split('\\n')"
   ]
  },
  {
   "cell_type": "code",
   "execution_count": 10,
   "metadata": {},
   "outputs": [],
   "source": [
    "image_files = []\n",
    "captions = []\n",
    "image_dir = \"Flickr_Data/Images/\"\n",
    "for i, row in enumerate(annotations):\n",
    "    row = row.split('\\t')\n",
    "    image_id = row[0][:len(row[0])-2]\n",
    "\n",
    "    if os.path.isfile(image_dir+image_id):\n",
    "        image_files.append(image_id)\n",
    "        captions.append(row[1][:len(row[1])-2])"
   ]
  },
  {
   "cell_type": "code",
   "execution_count": 13,
   "metadata": {},
   "outputs": [],
   "source": [
    "dataset = {\"file_name\": image_files, \"caption\": captions}"
   ]
  },
  {
   "cell_type": "code",
   "execution_count": 15,
   "metadata": {},
   "outputs": [],
   "source": [
    "dataset_df = pd.DataFrame(dataset)\n",
    "dataset_df.to_csv(\"Flickr_Data/ImageCaptionData.csv\", index=False)"
   ]
  },
  {
   "cell_type": "code",
   "execution_count": 21,
   "metadata": {},
   "outputs": [],
   "source": [
    "word_list = []\n",
    "word_count_map = defaultdict(int)\n",
    "for caption in captions:\n",
    "    tokens = nltk.tokenize.word_tokenize(str(caption).lower())\n",
    "    for token in tokens:\n",
    "        word_count_map[token] += 1\n",
    "        if token not in word_list:\n",
    "            word_list.append(token)"
   ]
  },
  {
   "cell_type": "code",
   "execution_count": 22,
   "metadata": {},
   "outputs": [
    {
     "data": {
      "text/plain": [
       "9541"
      ]
     },
     "execution_count": 22,
     "metadata": {},
     "output_type": "execute_result"
    }
   ],
   "source": [
    "len(word_list)"
   ]
  },
  {
   "cell_type": "code",
   "execution_count": 26,
   "metadata": {},
   "outputs": [],
   "source": [
    "sorted_word_list = []\n",
    "for k, _ in sorted(word_count_map.items(), key=lambda x: -x[1]):\n",
    "    sorted_word_list.append(k)\n"
   ]
  },
  {
   "cell_type": "code",
   "execution_count": 29,
   "metadata": {},
   "outputs": [],
   "source": [
    "def build_vocab(word_list,vocab_size=9500):\n",
    "    word2id = {}\n",
    "    id2word = {}\n",
    "    id = 0\n",
    "    word2id[\"<pad>\"]= id\n",
    "    id2word[id] = \"<pad>\"\n",
    "    id = id+1\n",
    "    word2id[\"<start>\"]=id\n",
    "    id2word[id] = \"<start>\" \n",
    "    id = id+1\n",
    "    word2id[\"<end>\"] = id\n",
    "    id2word[id] = \"<end>\"\n",
    "    id = id+1\n",
    "    word2id[\"<unk>\"] = id\n",
    "    id2word[id] = \"<unk>\"\n",
    "    id = id + 1\n",
    "    for w in len(vocab_size-4):\n",
    "        word = word_list[w]\n",
    "        word2id[word]=id\n",
    "        id2word[id]=word\n",
    "        id = id+1\n",
    "    return word2id, id2word\n",
    "\n",
    "    "
   ]
  },
  {
   "cell_type": "code",
   "execution_count": null,
   "metadata": {},
   "outputs": [],
   "source": []
  }
 ],
 "metadata": {
  "kernelspec": {
   "display_name": "Python 3",
   "language": "python",
   "name": "python3"
  },
  "language_info": {
   "codemirror_mode": {
    "name": "ipython",
    "version": 3
   },
   "file_extension": ".py",
   "mimetype": "text/x-python",
   "name": "python",
   "nbconvert_exporter": "python",
   "pygments_lexer": "ipython3",
   "version": "3.7.0"
  }
 },
 "nbformat": 4,
 "nbformat_minor": 2
}
